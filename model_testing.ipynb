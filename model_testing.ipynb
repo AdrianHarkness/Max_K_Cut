{
 "cells": [
  {
   "cell_type": "code",
   "execution_count": 5,
   "metadata": {},
   "outputs": [],
   "source": [
    "from Helper_Functions import *\n",
    "from Models import *\n",
    "from Penalties import *\n",
    "from docplex.mp.model import Model"
   ]
  },
  {
   "cell_type": "code",
   "execution_count": 6,
   "metadata": {},
   "outputs": [],
   "source": [
    "# Test parameters\n",
    "num_nodes_list = [5, 10, 15]  # Adjust as needed for larger tests\n",
    "k_values = [2, 3, 4, 5]       # Values of K to test\n",
    "edge_probability = 0.5        # Probability of edge creation\n",
    "weighted = True\n",
    "weight_range = 10             # Range for edge weights\n",
    "num_graphs_per_combination = 5  # Number of graphs to test per combination"
   ]
  },
  {
   "cell_type": "code",
   "execution_count": 7,
   "metadata": {},
   "outputs": [],
   "source": [
    "# Collect discrepancies\n",
    "discrepancies = []\n",
    "\n",
    "for num_nodes in num_nodes_list:\n",
    "    for K in k_values:\n",
    "        for graph_index in range(num_graphs_per_combination):\n",
    "            # Generate a random graph\n",
    "            G = generate_graph(num_nodes, edge_probability, weighted, weight_range)\n",
    "            \n",
    "            # Compute the naive penalties\n",
    "            PENALTY_QUBO = naive_qubo_penalty(G, K)\n",
    "            PENALTY_RQUBO = naive_rqubo_penalty(G, K)\n",
    "            \n",
    "            # Build models\n",
    "            model_bqo = docplex_BQO(G, K, name=f\"BQO_n{num_nodes}_k{K}\")\n",
    "            model_qubo = docplex_QUBO(G, K, PENALTY_QUBO, name=f\"QUBO_n{num_nodes}_k{K}\")\n",
    "            model_rbqo = docplex_RBQO(G, K, name=f\"RBQO_n{num_nodes}_k{K}\")\n",
    "            model_rqubo = docplex_RQUBO(G, K, PENALTY_RQUBO, name=f\"RQUBO_n{num_nodes}_k{K}\")\n",
    "            \n",
    "            # Solve models and get variable assignments\n",
    "            solution_bqo = get_solution_values(model_bqo)\n",
    "            solution_qubo = get_solution_values(model_qubo)\n",
    "            solution_rbqo = get_solution_values(model_rbqo)\n",
    "            solution_rqubo = get_solution_values(model_rqubo)\n",
    "            \n",
    "            # Check if any model failed to find a solution\n",
    "            if None in [solution_bqo, solution_qubo, solution_rbqo, solution_rqubo]:\n",
    "                print(f\"Solver failed for num_nodes={num_nodes}, K={K}, graph_index={graph_index}\")\n",
    "                continue\n",
    "            \n",
    "            # Compute BQO objective values for each solution\n",
    "            obj_bqo = compute_bqo_objective(solution_bqo, G, K)\n",
    "            obj_qubo = compute_bqo_objective(solution_qubo, G, K)\n",
    "            \n",
    "            # For RBQO and RQUBO, reconstruct the full assignments\n",
    "            full_assignment_rbqo = rbqo_to_bqo(solution_rbqo, G, K)\n",
    "            obj_rbqo = compute_bqo_objective(full_assignment_rbqo, G, K)\n",
    "\n",
    "            full_assignment_rqubo = rqubo_to_bqo(solution_rqubo, G, K)\n",
    "            obj_rqubo = compute_bqo_objective(full_assignment_rqubo, G, K)\n",
    "            \n",
    "            # Compare objective values\n",
    "            objs = [obj_bqo, obj_qubo, obj_rbqo, obj_rqubo]\n",
    "            max_obj = max(objs)\n",
    "            min_obj = min(objs)\n",
    "            if not np.isclose(max_obj, min_obj, atol=1e-6):\n",
    "                discrepancies.append({\n",
    "                    'num_nodes': num_nodes,\n",
    "                    'K': K,\n",
    "                    'graph_index': graph_index,\n",
    "                    'obj_bqo': obj_bqo,\n",
    "                    'obj_qubo': obj_qubo,\n",
    "                    'obj_rbqo': obj_rbqo,\n",
    "                    'obj_rqubo': obj_rqubo\n",
    "                })\n",
    "                print(f\"Discrepancy found for num_nodes={num_nodes}, K={K}, graph_index={graph_index}\")"
   ]
  },
  {
   "cell_type": "code",
   "execution_count": 8,
   "metadata": {},
   "outputs": [
    {
     "name": "stdout",
     "output_type": "stream",
     "text": [
      "\n",
      "Discrepancies Summary:\n"
     ]
    }
   ],
   "source": [
    "print(\"\\nDiscrepancies Summary:\")\n",
    "for discrepancy in discrepancies:\n",
    "    print(f\"num_nodes={discrepancy['num_nodes']}, K={discrepancy['K']}, graph_index={discrepancy['graph_index']}\")\n",
    "    print(f\"  BQO Objective:   {discrepancy['obj_bqo']}\")\n",
    "    print(f\"  QUBO Objective:  {discrepancy['obj_qubo']}\")\n",
    "    print(f\"  RBQO Objective:  {discrepancy['obj_rbqo']}\")\n",
    "    print(f\"  RQUBO Objective: {discrepancy['obj_rqubo']}\\n\")"
   ]
  }
 ],
 "metadata": {
  "kernelspec": {
   "display_name": "py310-qiskit1.0",
   "language": "python",
   "name": "python3"
  },
  "language_info": {
   "codemirror_mode": {
    "name": "ipython",
    "version": 3
   },
   "file_extension": ".py",
   "mimetype": "text/x-python",
   "name": "python",
   "nbconvert_exporter": "python",
   "pygments_lexer": "ipython3",
   "version": "3.10.13"
  }
 },
 "nbformat": 4,
 "nbformat_minor": 2
}
